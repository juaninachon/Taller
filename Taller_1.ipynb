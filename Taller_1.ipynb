{
  "cells": [
    {
      "cell_type": "markdown",
      "metadata": {
        "id": "dh8sDD23YYz5"
      },
      "source": [
        "# Actividad de nivelación\n",
        "\n",
        "¡Buenas! En esta primera actividad vamos a ver cómo andan esos fundamentos de **R**.\n",
        "\n",
        "Las preguntas guía van a ser estas: *¿Creen que hay asociaciones entre la edad, el sexo biológico y el desempeño de los niños y las niñas en las pruebas del Woodcock-Muñoz? ¿Cómo lo verificarían?*\n",
        "\n",
        "Este problema lo vamos a descomponer en los siguientes pasos:\n",
        "\n",
        "1. Organizar los datos - **Selección y ordenamiento de la información**\n",
        "2. Explorar y visualizar la distribución de la variables - **Análisis descriptivo**\n",
        "3. Prueba de hipótesis - **Análisis inferencial**\n"
      ]
    },
    {
      "cell_type": "code",
      "execution_count": null,
      "metadata": {
        "vscode": {
          "languageId": "r"
        },
        "id": "2ekupMl3YYz_"
      },
      "outputs": [],
      "source": [
        "# 1) Crear un objeto de la clase \"data.frame\" a partir del archivo \"WM.csv\"\n"
      ]
    },
    {
      "cell_type": "code",
      "execution_count": null,
      "metadata": {
        "vscode": {
          "languageId": "r"
        },
        "id": "i4LAn0Z0YY0C"
      },
      "outputs": [],
      "source": [
        "# 2) Armar un gráfico de dispersión con las variables \"Edad en meses\" en el eje X y \"Problemas Aplicados\" en el eje Y. Asignar colores distintos a niñas y a niños. Punto extra: Agregar la línea de regresión.\n"
      ]
    },
    {
      "cell_type": "markdown",
      "metadata": {
        "id": "E1nyNRCDYY0E"
      },
      "source": [
        "Algo así: <br>\n",
        "<img src=\"https://github.com/juaninachon/Taller/blob/master/output.png?raw=1\" \n",
        "    height=\"500\" width=\"500\" />"
      ]
    },
    {
      "cell_type": "code",
      "execution_count": null,
      "metadata": {
        "vscode": {
          "languageId": "r"
        },
        "id": "-bWxE9x5YY0F"
      },
      "outputs": [],
      "source": [
        "# 3) Calcular la correlación de Spearman entre las variables de interés. ¿Qué asociaciones son significativas? Justificar.\n"
      ]
    }
  ],
  "metadata": {
    "kernelspec": {
      "display_name": "R",
      "language": "R",
      "name": "ir"
    },
    "language_info": {
      "codemirror_mode": "r",
      "file_extension": ".r",
      "mimetype": "text/x-r-source",
      "name": "R",
      "pygments_lexer": "r",
      "version": "4.2.3"
    },
    "orig_nbformat": 4,
    "vscode": {
      "interpreter": {
        "hash": "aee8b7b246df8f9039afb4144a1f6fd8d2ca17a180786b69acc140d282b71a49"
      }
    },
    "colab": {
      "provenance": []
    }
  },
  "nbformat": 4,
  "nbformat_minor": 0
}