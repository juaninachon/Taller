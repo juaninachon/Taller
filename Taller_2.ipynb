{
  "cells": [
    {
      "cell_type": "markdown",
      "metadata": {
        "id": "W5GUQ4FMc6mu"
      },
      "source": [
        "# Segunda actividad: La confiabilidad de una escala multidimensional. El Alfa de cronbach, el análisis de componentes principales (PCA) y el análisis factorial confimatorio (CFA).\n",
        "\n",
        "What’s the difference between reliability and validity? Reliability and validity are both about how well a method measures something:\n",
        "\n",
        "*   Reliability refers to the consistency of a measure (whether the results can be reproduced under the same conditions). \n",
        "*   Validity refers to the accuracy of a measure (whether the results really do represent what they are supposed to measure).\n",
        "\n",
        "https://www.ncbi.nlm.nih.gov/pmc/articles/PMC4880791/\n",
        "https://www.javatpoint.com/assumptions-of-cronbachs-alpha-in-spss\n",
        "https://stats.stackexchange.com/questions/210150/cronbach-alpha-assumptions"
      ]
    },
    {
      "cell_type": "markdown",
      "metadata": {
        "id": "T4Nf-1QndNnK"
      },
      "source": [
        "1) 🤔 Hay que juntar las bases del CBQ. Algunos ítems se tomaron por separado. \n",
        "\n",
        "https://raw.githubusercontent.com/juaninachon/Taller/master/Encuesta_1.csv <br />\n",
        "https://raw.githubusercontent.com/juaninachon/Taller/master/Encuesta_2.csv\n",
        "\n",
        "¿Qué variable podemos usar para identificar cuáles respuestas son de cada sujeto?\n",
        "\n",
        "¿Como podemos ordenar cada ítem en su respectiva subescala?"
      ]
    },
    {
      "cell_type": "code",
      "execution_count": null,
      "metadata": {
        "id": "wRvKyT7nkyRN"
      },
      "outputs": [],
      "source": []
    },
    {
      "cell_type": "markdown",
      "metadata": {
        "id": "4TdSTVsmkymD"
      },
      "source": [
        "2) Crear una matriz con las correlaciones entre cada par de ítems posible, siguiendo el método de spearman."
      ]
    },
    {
      "cell_type": "code",
      "execution_count": null,
      "metadata": {
        "id": "ua0M2I7Em4zA"
      },
      "outputs": [],
      "source": []
    },
    {
      "cell_type": "markdown",
      "metadata": {
        "id": "vxuWCMKBmzSD"
      },
      "source": [
        "3) Calcular el alfa para cada subescala"
      ]
    },
    {
      "cell_type": "code",
      "execution_count": null,
      "metadata": {
        "id": "G4jR04ifnQSW"
      },
      "outputs": [],
      "source": []
    },
    {
      "cell_type": "markdown",
      "metadata": {
        "id": "AsV9DvaYnRK0"
      },
      "source": [
        "4) Ups nos olvidamos de comprobar los supuestos del alfa de Cronbach <br />\n",
        "<img src=\"alfa.png\" \n",
        "    height=\"500\" width=\"1000\" />"
      ]
    },
    {
      "cell_type": "code",
      "execution_count": null,
      "metadata": {
        "id": "f5Ot6aAGnlJU"
      },
      "outputs": [],
      "source": [
        "#Shapiro-Wilk\n",
        "#Breusch–Pagan "
      ]
    }
  ],
  "metadata": {
    "colab": {
      "provenance": []
    },
    "kernelspec": {
      "display_name": "Python 3.10.7 64-bit",
      "language": "python",
      "name": "python3"
    },
    "language_info": {
      "name": "python",
      "version": "3.10.7"
    },
    "vscode": {
      "interpreter": {
        "hash": "aee8b7b246df8f9039afb4144a1f6fd8d2ca17a180786b69acc140d282b71a49"
      }
    }
  },
  "nbformat": 4,
  "nbformat_minor": 0
}
